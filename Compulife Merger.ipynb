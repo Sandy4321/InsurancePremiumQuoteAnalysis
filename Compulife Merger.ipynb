{
 "cells": [
  {
   "cell_type": "code",
   "execution_count": null,
   "metadata": {
    "collapsed": true
   },
   "outputs": [],
   "source": [
    "from pdfminer.pdfinterp import PDFResourceManager, PDFPageInterpreter\n",
    "from pdfminer.converter import TextConverter\n",
    "from pdfminer.layout import LAParams\n",
    "from pdfminer.pdfpage import PDFPage\n",
    "from cStringIO import StringIO\n",
    "import os\n",
    "import time\n",
    "import win32com.client"
   ]
  },
  {
   "cell_type": "code",
   "execution_count": null,
   "metadata": {
    "collapsed": true
   },
   "outputs": [],
   "source": [
    "def convert_pdf_to_txt(path):\n",
    "    rsrcmgr = PDFResourceManager()\n",
    "    retstr = StringIO()\n",
    "    codec = 'utf-8'\n",
    "    laparams = LAParams()\n",
    "    device = TextConverter(rsrcmgr, retstr, codec=codec, laparams=laparams)\n",
    "    fp = file(path, 'rb')\n",
    "    interpreter = PDFPageInterpreter(rsrcmgr, device)\n",
    "    password = \"\"\n",
    "    maxpages = 0\n",
    "    caching = True\n",
    "    pagenos=set()\n",
    "\n",
    "    for page in PDFPage.get_pages(fp, pagenos, maxpages=maxpages, password=password,caching=caching, check_extractable=True):\n",
    "        interpreter.process_page(page)\n",
    "\n",
    "    text = retstr.getvalue()\n",
    "\n",
    "    fp.close()\n",
    "    device.close()\n",
    "    retstr.close()\n",
    "    return text\n"
   ]
  },
  {
   "cell_type": "code",
   "execution_count": null,
   "metadata": {
    "collapsed": true
   },
   "outputs": [],
   "source": [
    "def getNextMonth(a):\n",
    "    if a=='December':\n",
    "        return 'January'\n",
    "    elif a=='January':\n",
    "        return 'February'\n",
    "    elif a=='February':\n",
    "        return 'March'\n",
    "    elif a=='March':\n",
    "        return 'April'\n",
    "    elif a=='April':\n",
    "        return 'May'\n",
    "    elif a=='May':\n",
    "        return 'June'\n",
    "    elif a=='June':\n",
    "        return 'July'\n",
    "    elif a=='July':\n",
    "        return 'August'\n",
    "    elif a=='August':\n",
    "        return 'September'\n",
    "    elif a=='September':\n",
    "        return 'October'\n",
    "    elif a=='October':\n",
    "        return 'November'\n",
    "    elif a=='November':\n",
    "        return 'December'"
   ]
  },
  {
   "cell_type": "code",
   "execution_count": null,
   "metadata": {
    "collapsed": true
   },
   "outputs": [],
   "source": [
    "def convertPDF(path):\n",
    "#    html=str(convert_pdf_to_txt(getName(month,year,fileName)))\n",
    "    year=str(path[18:22])\n",
    "    month=str(path[23:-4])\n",
    "    html=str(convert_pdf_to_txt(path))\n",
    "    if month=='December':\n",
    "        tempstring=\"Compulife Historical Data - \"+month+\" \" + year+\"                              \"+str(getNextMonth(month))+\" 9, \"+str(int(year)+1)+\"Product Code   Company Code   Product Name                            Category\"\n",
    "    else:\n",
    "        tempstring=\"Compulife Historical Data - \"+month+\" \" + year+\"                              \"+str(getNextMonth(month))+\" 9, \"+year+\"Product Code   Company Code   Product Name                            Category\"\n",
    "    html=html.replace(tempstring,\"\")\n",
    "    html=html.replace(\",\",\"#\")\n",
    "    html=html.replace(\"\\x0c\",\"\")\n",
    "#    category=[]\n",
    "    linebreaks=[html[i:i+77] for i in xrange(0, len(html), 77)]\n",
    "    for i in range(0,len(linebreaks)):\n",
    "        linebreaks[i]=linebreaks[i][:4].strip()+\",\"+linebreaks[i][15:20].strip()+\",\"+linebreaks[i][21:-1].strip()+\",\"+linebreaks[i][-1:].strip()\n",
    "    saveAs=str(path[:18])+ year+ '-' + month+ '.txt'\n",
    "    print saveAs\n",
    "    saveAsCsv=saveAs[:-3] + 'csv'\n",
    "    f = open(saveAs, \"w\")\n",
    "    f.writelines([\"%s\\n\" % item  for item in linebreaks])\n",
    "    f.close()\n",
    "    for filename in os.listdir(\".\"):\n",
    "        if filename == str(saveAs[19:]):\n",
    "            os.rename(saveAs,saveAsCsv)\n",
    "            print \"file renamed\"\n",
    "#\n",
    "#for i in range(1989,2016):\n",
    "#    for j in range(0,12):\n",
    "#convertPDF(4,2015)\n",
    "            "
   ]
  },
  {
   "cell_type": "code",
   "execution_count": null,
   "metadata": {
    "collapsed": true
   },
   "outputs": [],
   "source": [
    "def emulate(path):\n",
    "    saveto=path[21:]\n",
    "    path='\"'+path+'\\\\gowin.exe\"'\n",
    "#    print 'Emulating: ', path\n",
    "    shell = win32com.client.Dispatch(\"WScript.Shell\")\n",
    "    shell.Run(path)\n",
    "    time.sleep(4)\n",
    "    shell.AppActivate('Compulife Quotation Manager')\n",
    "    time.sleep(4)\n",
    "    shell.SendKeys(\"{RIGHT}\",1) # 1 für Pause = true 0 für nein\n",
    "    shell.SendKeys(\"~\")\n",
    "    time.sleep(3)\n",
    "    shell.SendKeys(\"{DOWN}\")\n",
    "    shell.SendKeys(\"{DOWN}\")\n",
    "    shell.SendKeys(\"{DOWN}\")\n",
    "    shell.SendKeys(\"~\")\n",
    "    time.sleep(3)\n",
    "    shell.SendKeys(\"{DOWN}\")\n",
    "    shell.SendKeys(\"{DOWN}\")\n",
    "    shell.SendKeys(\"{DOWN}\")\n",
    "    shell.SendKeys(\"{DOWN}\")\n",
    "    shell.SendKeys(\"{DOWN}\")\n",
    "    shell.SendKeys(\"{DOWN}\")\n",
    "#    shell.SendKeys(\"{DOWN}\")\n",
    "    shell.SendKeys(\"~\")\n",
    "    time.sleep(3)\n",
    "    shell.SendKeys(\"{TAB}\")\n",
    "    shell.SendKeys(\"{TAB}\")\n",
    "    time.sleep(3)\n",
    "    shell.SendKeys(\"{DOWN}\")\n",
    "    shell.SendKeys(\"{TAB}\")\n",
    "    shell.SendKeys(\"{TAB}\")\n",
    "    shell.SendKeys(\"{DOWN}\")\n",
    "    time.sleep(3)\n",
    "    shell.SendKeys(\"~\")\n",
    "    time.sleep(5)\n",
    "    shell.SendKeys(saveto)\n",
    "    time.sleep(3)\n",
    "    shell.SendKeys(\"~\")\n",
    "    time.sleep(3)\n",
    "    shell.SendKeys(\"{TAB}\")\n",
    "    shell.SendKeys(\"{TAB}\")\n",
    "    time.sleep(3)\n",
    "    shell.SendKeys(\"~\")\n",
    "    shell.SendKeys(\"%\")\n",
    "    shell.SendKeys(\"{DOWN}\")\n",
    "    time.sleep(3)\n",
    "    shell.SendKeys(\"~\")\n",
    "    print path, ':file generated'\n",
    "    \n"
   ]
  },
  {
   "cell_type": "code",
   "execution_count": null,
   "metadata": {
    "collapsed": true
   },
   "outputs": [],
   "source": [
    "#def getName(month,year=2015,fileName='PDF_temp'):\n",
    "#    filefull='C:\\\\Compulife DB\\\\2015\\\\' + str(year) + ' ' + str(getMonth(month)) + '\\\\' + fileName +'.pdf'\n",
    "#    return filefull\n",
    "    \n",
    "#emulate('\"C:\\\\Compulife DB\\\\2015\\\\2015 April\\\\gowin.exe\"')\n",
    "months=[]    \n",
    "years=os.listdir('C:\\\\Compulife DB')\n",
    "for item in years:\n",
    "    months.append(os.listdir('C:\\\\Compulife DB\\\\'+str(item)))\n",
    "    \n",
    "#months= months[::-1]"
   ]
  },
  {
   "cell_type": "code",
   "execution_count": null,
   "metadata": {
    "collapsed": true
   },
   "outputs": [],
   "source": [
    "for item in months:\n",
    "    print str(item)[:10], ':', len(item)"
   ]
  },
  {
   "cell_type": "code",
   "execution_count": null,
   "metadata": {
    "collapsed": true
   },
   "outputs": [],
   "source": [
    "completed=[item for item in os.listdir('C:\\\\compulife pdfs\\\\') if item[-3:]!='csv']\n",
    "#completed=[i[:-4] for i in completed]\n",
    "#completed=completed[::-1]\n",
    "print len(completed), completed,'\\n\\n\\n\\n\\n\\n', months"
   ]
  },
  {
   "cell_type": "code",
   "execution_count": null,
   "metadata": {
    "collapsed": true
   },
   "outputs": [],
   "source": [
    "#for i in range(len(completed)):\n",
    "#    path='C:\\\\compulife pdfs\\\\'+str(completed[i])+'.pdf'\n",
    "#    print path\n",
    "##    , path[18:22], path[23:-4]\n",
    "#    convertPDF(path)\n",
    "    \n",
    "    \n",
    "for i in range(len(months)):\n",
    "    months[i]=[item for item in months[i] if item not in completed]\n",
    "print years,'\\n\\n\\n\\n\\n\\n', months\n",
    "for item in months:\n",
    "    print str(item)[2:6], ':', len(item)\n",
    "\n",
    "#for p in range(11,len(months)):\n",
    "#    months.pop()\n",
    "#print len(months)"
   ]
  },
  {
   "cell_type": "code",
   "execution_count": null,
   "metadata": {
    "collapsed": true
   },
   "outputs": [],
   "source": [
    "for item in months:\n",
    "    print str(item)[2:6], ':', len(item)\n",
    "#for i in range(len(months)):\n",
    "for item in months:\n",
    "    for i in range(len(item)):\n",
    "        path='C:\\\\Compulife DB\\\\'+str(item[i])[:4]+'\\\\' + str(item[i])\n",
    "        print path\n",
    "        emulate(path)"
   ]
  },
  {
   "cell_type": "code",
   "execution_count": null,
   "metadata": {
    "collapsed": true
   },
   "outputs": [],
   "source": []
  },
  {
   "cell_type": "code",
   "execution_count": null,
   "metadata": {
    "collapsed": true
   },
   "outputs": [],
   "source": []
  }
 ],
 "metadata": {
  "kernelspec": {
   "display_name": "Python 2",
   "language": "python",
   "name": "python2"
  },
  "language_info": {
   "codemirror_mode": {
    "name": "ipython",
    "version": 2
   },
   "file_extension": ".py",
   "mimetype": "text/x-python",
   "name": "python",
   "nbconvert_exporter": "python",
   "pygments_lexer": "ipython2",
   "version": "2.7.10"
  }
 },
 "nbformat": 4,
 "nbformat_minor": 0
}
